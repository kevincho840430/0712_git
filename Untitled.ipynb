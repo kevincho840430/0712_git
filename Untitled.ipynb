{
 "cells": [
  {
   "cell_type": "code",
   "execution_count": 69,
   "metadata": {},
   "outputs": [],
   "source": [
    "import pandas as pd"
   ]
  },
  {
   "cell_type": "code",
   "execution_count": 74,
   "metadata": {},
   "outputs": [],
   "source": [
    "df = pd.read_csv('test.csv')"
   ]
  },
  {
   "cell_type": "code",
   "execution_count": 84,
   "metadata": {},
   "outputs": [
    {
     "data": {
      "text/html": [
       "<div>\n",
       "<style scoped>\n",
       "    .dataframe tbody tr th:only-of-type {\n",
       "        vertical-align: middle;\n",
       "    }\n",
       "\n",
       "    .dataframe tbody tr th {\n",
       "        vertical-align: top;\n",
       "    }\n",
       "\n",
       "    .dataframe thead th {\n",
       "        text-align: right;\n",
       "    }\n",
       "</style>\n",
       "<table border=\"1\" class=\"dataframe\">\n",
       "  <thead>\n",
       "    <tr style=\"text-align: right;\">\n",
       "      <th></th>\n",
       "      <th>EQP_ID</th>\n",
       "      <th>START_DT</th>\n",
       "      <th>END_DT</th>\n",
       "      <th>VALUES1</th>\n",
       "      <th>VALUES2</th>\n",
       "      <th>cnt_time</th>\n",
       "    </tr>\n",
       "  </thead>\n",
       "  <tbody>\n",
       "    <tr>\n",
       "      <th>0</th>\n",
       "      <td>2234</td>\n",
       "      <td>2021-01-02 08:00:00</td>\n",
       "      <td>2021-01-02 08:00:00</td>\n",
       "      <td>1</td>\n",
       "      <td>4</td>\n",
       "      <td></td>\n",
       "    </tr>\n",
       "    <tr>\n",
       "      <th>1</th>\n",
       "      <td>22</td>\n",
       "      <td>2021-01-02 08:01:00</td>\n",
       "      <td>2021-01-02 08:01:00</td>\n",
       "      <td>2</td>\n",
       "      <td>5</td>\n",
       "      <td></td>\n",
       "    </tr>\n",
       "    <tr>\n",
       "      <th>2</th>\n",
       "      <td>2235</td>\n",
       "      <td>2021-01-02 08:02:00</td>\n",
       "      <td>2021-01-02 08:02:00</td>\n",
       "      <td>3</td>\n",
       "      <td>6</td>\n",
       "      <td></td>\n",
       "    </tr>\n",
       "    <tr>\n",
       "      <th>3</th>\n",
       "      <td>33</td>\n",
       "      <td>2021-01-02 08:03:00</td>\n",
       "      <td>2021-01-02 08:03:00</td>\n",
       "      <td>4</td>\n",
       "      <td>7</td>\n",
       "      <td></td>\n",
       "    </tr>\n",
       "    <tr>\n",
       "      <th>4</th>\n",
       "      <td>2236</td>\n",
       "      <td>2021-01-02 08:04:00</td>\n",
       "      <td>2021-01-02 08:04:00</td>\n",
       "      <td>5</td>\n",
       "      <td>8</td>\n",
       "      <td></td>\n",
       "    </tr>\n",
       "  </tbody>\n",
       "</table>\n",
       "</div>"
      ],
      "text/plain": [
       "   EQP_ID            START_DT              END_DT  VALUES1  VALUES2 cnt_time\n",
       "0    2234 2021-01-02 08:00:00 2021-01-02 08:00:00        1        4         \n",
       "1      22 2021-01-02 08:01:00 2021-01-02 08:01:00        2        5         \n",
       "2    2235 2021-01-02 08:02:00 2021-01-02 08:02:00        3        6         \n",
       "3      33 2021-01-02 08:03:00 2021-01-02 08:03:00        4        7         \n",
       "4    2236 2021-01-02 08:04:00 2021-01-02 08:04:00        5        8         "
      ]
     },
     "execution_count": 84,
     "metadata": {},
     "output_type": "execute_result"
    }
   ],
   "source": [
    "df"
   ]
  },
  {
   "cell_type": "code",
   "execution_count": 83,
   "metadata": {},
   "outputs": [],
   "source": [
    "df['cnt_time'] = \"\""
   ]
  },
  {
   "cell_type": "code",
   "execution_count": 76,
   "metadata": {},
   "outputs": [],
   "source": [
    "df[\"START_DT\"] = pd.to_datetime(df[\"START_DT\"])"
   ]
  },
  {
   "cell_type": "code",
   "execution_count": 77,
   "metadata": {},
   "outputs": [],
   "source": [
    "df[\"END_DT\"] = pd.to_datetime(df[\"END_DT\"])"
   ]
  },
  {
   "cell_type": "code",
   "execution_count": 78,
   "metadata": {},
   "outputs": [
    {
     "data": {
      "text/plain": [
       "numpy.datetime64('2021-01-02T08:02:00.000000000')"
      ]
     },
     "execution_count": 78,
     "metadata": {},
     "output_type": "execute_result"
    }
   ],
   "source": [
    "df['START_DT'].iloc[2:3].values[0]"
   ]
  },
  {
   "cell_type": "code",
   "execution_count": 79,
   "metadata": {},
   "outputs": [
    {
     "data": {
      "text/plain": [
       "numpy.datetime64('2021-01-02T08:00:00.000000000')"
      ]
     },
     "execution_count": 79,
     "metadata": {},
     "output_type": "execute_result"
    }
   ],
   "source": [
    "df['END_DT'].iloc[0:1].values[0]"
   ]
  },
  {
   "cell_type": "code",
   "execution_count": 86,
   "metadata": {},
   "outputs": [
    {
     "name": "stderr",
     "output_type": "stream",
     "text": [
      "/Library/Frameworks/Python.framework/Versions/3.6/lib/python3.6/site-packages/pandas/core/indexing.py:189: SettingWithCopyWarning: \n",
      "A value is trying to be set on a copy of a slice from a DataFrame\n",
      "\n",
      "See the caveats in the documentation: http://pandas.pydata.org/pandas-docs/stable/indexing.html#indexing-view-versus-copy\n",
      "  self._setitem_with_indexer(indexer, value)\n"
     ]
    }
   ],
   "source": [
    "df[\"cnt_time\"].iloc[2:3] = (df['START_DT'].iloc[2:3].values[0] - df['END_DT'].iloc[0:1].values[0]).astype('timedelta64[s]')"
   ]
  },
  {
   "cell_type": "code",
   "execution_count": 87,
   "metadata": {},
   "outputs": [
    {
     "data": {
      "text/html": [
       "<div>\n",
       "<style scoped>\n",
       "    .dataframe tbody tr th:only-of-type {\n",
       "        vertical-align: middle;\n",
       "    }\n",
       "\n",
       "    .dataframe tbody tr th {\n",
       "        vertical-align: top;\n",
       "    }\n",
       "\n",
       "    .dataframe thead th {\n",
       "        text-align: right;\n",
       "    }\n",
       "</style>\n",
       "<table border=\"1\" class=\"dataframe\">\n",
       "  <thead>\n",
       "    <tr style=\"text-align: right;\">\n",
       "      <th></th>\n",
       "      <th>EQP_ID</th>\n",
       "      <th>START_DT</th>\n",
       "      <th>END_DT</th>\n",
       "      <th>VALUES1</th>\n",
       "      <th>VALUES2</th>\n",
       "      <th>cnt_time</th>\n",
       "    </tr>\n",
       "  </thead>\n",
       "  <tbody>\n",
       "    <tr>\n",
       "      <th>0</th>\n",
       "      <td>2234</td>\n",
       "      <td>2021-01-02 08:00:00</td>\n",
       "      <td>2021-01-02 08:00:00</td>\n",
       "      <td>1</td>\n",
       "      <td>4</td>\n",
       "      <td></td>\n",
       "    </tr>\n",
       "    <tr>\n",
       "      <th>1</th>\n",
       "      <td>22</td>\n",
       "      <td>2021-01-02 08:01:00</td>\n",
       "      <td>2021-01-02 08:01:00</td>\n",
       "      <td>2</td>\n",
       "      <td>5</td>\n",
       "      <td></td>\n",
       "    </tr>\n",
       "    <tr>\n",
       "      <th>2</th>\n",
       "      <td>2235</td>\n",
       "      <td>2021-01-02 08:02:00</td>\n",
       "      <td>2021-01-02 08:02:00</td>\n",
       "      <td>3</td>\n",
       "      <td>6</td>\n",
       "      <td>0:02:00</td>\n",
       "    </tr>\n",
       "    <tr>\n",
       "      <th>3</th>\n",
       "      <td>33</td>\n",
       "      <td>2021-01-02 08:03:00</td>\n",
       "      <td>2021-01-02 08:03:00</td>\n",
       "      <td>4</td>\n",
       "      <td>7</td>\n",
       "      <td></td>\n",
       "    </tr>\n",
       "    <tr>\n",
       "      <th>4</th>\n",
       "      <td>2236</td>\n",
       "      <td>2021-01-02 08:04:00</td>\n",
       "      <td>2021-01-02 08:04:00</td>\n",
       "      <td>5</td>\n",
       "      <td>8</td>\n",
       "      <td></td>\n",
       "    </tr>\n",
       "  </tbody>\n",
       "</table>\n",
       "</div>"
      ],
      "text/plain": [
       "   EQP_ID            START_DT              END_DT  VALUES1  VALUES2 cnt_time\n",
       "0    2234 2021-01-02 08:00:00 2021-01-02 08:00:00        1        4         \n",
       "1      22 2021-01-02 08:01:00 2021-01-02 08:01:00        2        5         \n",
       "2    2235 2021-01-02 08:02:00 2021-01-02 08:02:00        3        6  0:02:00\n",
       "3      33 2021-01-02 08:03:00 2021-01-02 08:03:00        4        7         \n",
       "4    2236 2021-01-02 08:04:00 2021-01-02 08:04:00        5        8         "
      ]
     },
     "execution_count": 87,
     "metadata": {},
     "output_type": "execute_result"
    }
   ],
   "source": [
    "df"
   ]
  },
  {
   "cell_type": "code",
   "execution_count": 81,
   "metadata": {},
   "outputs": [
    {
     "ename": "AttributeError",
     "evalue": "module 'pandas.tslib' has no attribute 'repr_timedelta64'",
     "output_type": "error",
     "traceback": [
      "\u001b[0;31m---------------------------------------------------------------------------\u001b[0m",
      "\u001b[0;31mAttributeError\u001b[0m                            Traceback (most recent call last)",
      "\u001b[0;32m<ipython-input-81-91b9742af767>\u001b[0m in \u001b[0;36m<module>\u001b[0;34m()\u001b[0m\n\u001b[0;32m----> 1\u001b[0;31m \u001b[0mpd\u001b[0m\u001b[0;34m.\u001b[0m\u001b[0mtslib\u001b[0m\u001b[0;34m.\u001b[0m\u001b[0mrepr_timedelta64\u001b[0m\u001b[0;34m(\u001b[0m\u001b[0ma\u001b[0m\u001b[0;34m)\u001b[0m\u001b[0;34m\u001b[0m\u001b[0m\n\u001b[0m",
      "\u001b[0;31mAttributeError\u001b[0m: module 'pandas.tslib' has no attribute 'repr_timedelta64'"
     ]
    }
   ],
   "source": [
    "datetime.strptime('20150101', '%Y%m%d')"
   ]
  },
  {
   "cell_type": "code",
   "execution_count": 45,
   "metadata": {},
   "outputs": [
    {
     "ename": "AttributeError",
     "evalue": "'numpy.timedelta64' object has no attribute 'values'",
     "output_type": "error",
     "traceback": [
      "\u001b[0;31m---------------------------------------------------------------------------\u001b[0m",
      "\u001b[0;31mAttributeError\u001b[0m                            Traceback (most recent call last)",
      "\u001b[0;32m<ipython-input-45-c0956120fe58>\u001b[0m in \u001b[0;36m<module>\u001b[0;34m()\u001b[0m\n\u001b[0;32m----> 1\u001b[0;31m \u001b[0ma\u001b[0m\u001b[0;34m.\u001b[0m\u001b[0mastype\u001b[0m\u001b[0;34m(\u001b[0m\u001b[0;34m'timedelta64[s]'\u001b[0m\u001b[0;34m)\u001b[0m\u001b[0;34m.\u001b[0m\u001b[0mvalues\u001b[0m\u001b[0;34m\u001b[0m\u001b[0m\n\u001b[0m",
      "\u001b[0;31mAttributeError\u001b[0m: 'numpy.timedelta64' object has no attribute 'values'"
     ]
    }
   ],
   "source": [
    "a.astype('timedelta64[s]').values"
   ]
  },
  {
   "cell_type": "code",
   "execution_count": 22,
   "metadata": {},
   "outputs": [
    {
     "data": {
      "text/plain": [
       "'2021/1/2 8:00'"
      ]
     },
     "execution_count": 22,
     "metadata": {},
     "output_type": "execute_result"
    }
   ],
   "source": [
    "df['START_DT'].iloc[0:1].values[0]"
   ]
  },
  {
   "cell_type": "code",
   "execution_count": 12,
   "metadata": {},
   "outputs": [
    {
     "data": {
      "text/plain": [
       "0    2021/1/2 7:59\n",
       "Name: END_DT, dtype: object"
      ]
     },
     "execution_count": 12,
     "metadata": {},
     "output_type": "execute_result"
    }
   ],
   "source": [
    "df['END_DT'].iloc[0:1]"
   ]
  },
  {
   "cell_type": "code",
   "execution_count": 13,
   "metadata": {},
   "outputs": [
    {
     "data": {
      "text/plain": [
       "1    2021/1/2 8:01\n",
       "Name: START_DT, dtype: object"
      ]
     },
     "execution_count": 13,
     "metadata": {},
     "output_type": "execute_result"
    }
   ],
   "source": [
    "df['START_DT'].iloc[1:2]"
   ]
  },
  {
   "cell_type": "code",
   "execution_count": 90,
   "metadata": {},
   "outputs": [],
   "source": [
    "df[\"value_sum\"] = \"\""
   ]
  },
  {
   "cell_type": "code",
   "execution_count": 91,
   "metadata": {},
   "outputs": [
    {
     "name": "stderr",
     "output_type": "stream",
     "text": [
      "/Library/Frameworks/Python.framework/Versions/3.6/lib/python3.6/site-packages/pandas/core/indexing.py:189: SettingWithCopyWarning: \n",
      "A value is trying to be set on a copy of a slice from a DataFrame\n",
      "\n",
      "See the caveats in the documentation: http://pandas.pydata.org/pandas-docs/stable/indexing.html#indexing-view-versus-copy\n",
      "  self._setitem_with_indexer(indexer, value)\n"
     ]
    }
   ],
   "source": [
    "df[\"value_sum\"].iloc[0:1] = df['VALUES2'].iloc[0:1].values[0] - df['VALUES1'].iloc[0:1].values[0]"
   ]
  },
  {
   "cell_type": "code",
   "execution_count": 92,
   "metadata": {},
   "outputs": [
    {
     "data": {
      "text/html": [
       "<div>\n",
       "<style scoped>\n",
       "    .dataframe tbody tr th:only-of-type {\n",
       "        vertical-align: middle;\n",
       "    }\n",
       "\n",
       "    .dataframe tbody tr th {\n",
       "        vertical-align: top;\n",
       "    }\n",
       "\n",
       "    .dataframe thead th {\n",
       "        text-align: right;\n",
       "    }\n",
       "</style>\n",
       "<table border=\"1\" class=\"dataframe\">\n",
       "  <thead>\n",
       "    <tr style=\"text-align: right;\">\n",
       "      <th></th>\n",
       "      <th>EQP_ID</th>\n",
       "      <th>START_DT</th>\n",
       "      <th>END_DT</th>\n",
       "      <th>VALUES1</th>\n",
       "      <th>VALUES2</th>\n",
       "      <th>cnt_time</th>\n",
       "      <th>value_sum</th>\n",
       "    </tr>\n",
       "  </thead>\n",
       "  <tbody>\n",
       "    <tr>\n",
       "      <th>0</th>\n",
       "      <td>2234</td>\n",
       "      <td>2021-01-02 08:00:00</td>\n",
       "      <td>2021-01-02 08:00:00</td>\n",
       "      <td>1</td>\n",
       "      <td>4</td>\n",
       "      <td></td>\n",
       "      <td>3</td>\n",
       "    </tr>\n",
       "    <tr>\n",
       "      <th>1</th>\n",
       "      <td>22</td>\n",
       "      <td>2021-01-02 08:01:00</td>\n",
       "      <td>2021-01-02 08:01:00</td>\n",
       "      <td>2</td>\n",
       "      <td>5</td>\n",
       "      <td></td>\n",
       "      <td></td>\n",
       "    </tr>\n",
       "    <tr>\n",
       "      <th>2</th>\n",
       "      <td>2235</td>\n",
       "      <td>2021-01-02 08:02:00</td>\n",
       "      <td>2021-01-02 08:02:00</td>\n",
       "      <td>3</td>\n",
       "      <td>6</td>\n",
       "      <td>0:02:00</td>\n",
       "      <td></td>\n",
       "    </tr>\n",
       "    <tr>\n",
       "      <th>3</th>\n",
       "      <td>33</td>\n",
       "      <td>2021-01-02 08:03:00</td>\n",
       "      <td>2021-01-02 08:03:00</td>\n",
       "      <td>4</td>\n",
       "      <td>7</td>\n",
       "      <td></td>\n",
       "      <td></td>\n",
       "    </tr>\n",
       "    <tr>\n",
       "      <th>4</th>\n",
       "      <td>2236</td>\n",
       "      <td>2021-01-02 08:04:00</td>\n",
       "      <td>2021-01-02 08:04:00</td>\n",
       "      <td>5</td>\n",
       "      <td>8</td>\n",
       "      <td></td>\n",
       "      <td></td>\n",
       "    </tr>\n",
       "  </tbody>\n",
       "</table>\n",
       "</div>"
      ],
      "text/plain": [
       "   EQP_ID            START_DT              END_DT  VALUES1  VALUES2 cnt_time  \\\n",
       "0    2234 2021-01-02 08:00:00 2021-01-02 08:00:00        1        4            \n",
       "1      22 2021-01-02 08:01:00 2021-01-02 08:01:00        2        5            \n",
       "2    2235 2021-01-02 08:02:00 2021-01-02 08:02:00        3        6  0:02:00   \n",
       "3      33 2021-01-02 08:03:00 2021-01-02 08:03:00        4        7            \n",
       "4    2236 2021-01-02 08:04:00 2021-01-02 08:04:00        5        8            \n",
       "\n",
       "  value_sum  \n",
       "0         3  \n",
       "1            \n",
       "2            \n",
       "3            \n",
       "4            "
      ]
     },
     "execution_count": 92,
     "metadata": {},
     "output_type": "execute_result"
    }
   ],
   "source": [
    "df"
   ]
  },
  {
   "cell_type": "code",
   "execution_count": 35,
   "metadata": {},
   "outputs": [
    {
     "name": "stdout",
     "output_type": "stream",
     "text": [
      "   start_period  end_period  mat_band    valDate  startdate    enddate\n",
      "0             0           3     0-3Yr 2016-12-31 2016-12-31 2019-12-31\n",
      "1             3           7    3-7Yrs 2016-12-31 2019-12-31 2023-12-31\n",
      "2             7          10   7-10Yrs 2016-12-31 2023-12-31 2026-12-31\n",
      "3            10          15  10-15Yrs 2016-12-31 2026-12-31 2031-12-31\n",
      "4            15          20  15-20Yrs 2016-12-31 2031-12-31 2036-12-31\n",
      "5            20          30  20-30Yrs 2016-12-31 2036-12-31 2046-12-31\n",
      "6            30          40  30-40Yrs 2016-12-31 2046-12-31 2056-12-31\n",
      "7            40         200   > 40Yrs 2016-12-31 2056-12-31 2216-12-31\n"
     ]
    }
   ],
   "source": [
    "import numpy as np\n",
    "import pandas as pd\n",
    "\n",
    "def numpy_date_add(vd_array,y_array):    \n",
    "    ar=((vd_array.astype('M8[Y]') + np.timedelta64(1, 'Y') * \\\n",
    "    y_array).astype('M8[M]')+ \\\n",
    "    (vd_array.astype('M8[M]')- \\\n",
    "    vd_array.astype('M8[Y]'))).astype('M8[D]')+ \\\n",
    "    (vd_array.astype('M8[D]')-\\\n",
    "    vd_array.astype('M8[M]')) \n",
    "    return ar\n",
    "\n",
    "# usage\n",
    "valDate=pd.datetime(2016,12,31)\n",
    "per=[[0,3,'0-3Yr'],\n",
    "        [3,7,'3-7Yrs'],\n",
    "        [7,10,'7-10Yrs'],\n",
    "        [10,15,'10-15Yrs'],\n",
    "        [15,20,'15-20Yrs'],\n",
    "        [20,30,'20-30Yrs'],\n",
    "        [30,40,'30-40Yrs'],\n",
    "        [40,200,'> 40Yrs']]\n",
    "pert=pd.DataFrame(per,columns=['start_period','end_period','mat_band'])\n",
    "pert['valDate']=valDate\n",
    "pert['startdate'] = numpy_date_add(pert.valDate.values,pert.start_period.values)\n",
    "pert['enddate'] = numpy_date_add(pert.valDate.values,pert.end_period.values)\n",
    "\n",
    "print(pert)"
   ]
  },
  {
   "cell_type": "code",
   "execution_count": null,
   "metadata": {},
   "outputs": [],
   "source": []
  }
 ],
 "metadata": {
  "kernelspec": {
   "display_name": "Python 3",
   "language": "python",
   "name": "python3"
  },
  "language_info": {
   "codemirror_mode": {
    "name": "ipython",
    "version": 3
   },
   "file_extension": ".py",
   "mimetype": "text/x-python",
   "name": "python",
   "nbconvert_exporter": "python",
   "pygments_lexer": "ipython3",
   "version": "3.6.5"
  }
 },
 "nbformat": 4,
 "nbformat_minor": 2
}
